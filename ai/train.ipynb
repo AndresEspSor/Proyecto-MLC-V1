{
  "cells": [
    {
      "cell_type": "code",
      "source": [
        "import pandas as pd\n",
        "from sklearn.model_selection import train_test_split\n",
        "from sklearn.linear_model import LogisticRegression\n",
        "from sklearn.ensemble import RandomForestClassifier\n",
        "from sklearn.metrics import accuracy_score\n",
        "import joblib\n",
        "import matplotlib.pyplot as plt\n",
        "\n",
        "# Cargar los datos desde el CSV\n",
        "data = pd.read_csv(\"data.csv\")\n",
        "\n",
        "# Seleccionar las características (X) y la variable objetivo (y)\n",
        "X = data.drop(\"Niveles de estrés\", axis=1)\n",
        "y = data[\"Niveles de estrés\"]\n",
        "\n",
        "# Split de datos para clasificación (supongamos que quieres predecir si hay niveles de estrés alto o bajo)\n",
        "umbral = 0.5  # Ajusta el umbral según tus necesidades\n",
        "y_class = (y > umbral).astype(int)\n",
        "X_train_clf, X_test_clf, y_train_clf, y_test_clf = train_test_split(X, y_class, test_size=0.2)\n",
        "\n",
        "# Modelos de clasificación\n",
        "classification_models = [LogisticRegression(), RandomForestClassifier()]\n",
        "\n",
        "best_classification_model = None\n",
        "best_classification_accuracy = 0.0\n",
        "\n",
        "\n",
        "for model in classification_models:\n",
        "    model.fit(X_train_clf, y_train_clf)\n",
        "    y_pred_clf = model.predict(X_test_clf)\n",
        "    accuracy = accuracy_score(y_test_clf, y_pred_clf)\n",
        "    print(f\"Model: {model}, Accuracy: {accuracy.round(30)}\")\n",
        "\n",
        "    # Guardar el mejor modelo de clasificación basado en la mayor precisión\n",
        "    if accuracy > best_classification_accuracy:\n",
        "        best_classification_accuracy = accuracy\n",
        "        best_classification_model = model\n",
        "\n",
        "# Guardar el mejor modelo de clasificación en un archivo\n",
        "joblib.dump(best_classification_model, 'best_classification_model.joblib')\n"
      ],
      "outputs": [
        {
          "output_type": "stream",
          "name": "stdout",
          "text": "Model: LogisticRegression(), Accuracy: 1.0\nModel: RandomForestClassifier(), Accuracy: 0.9920634920634921\n"
        },
        {
          "output_type": "execute_result",
          "execution_count": 2,
          "data": {
            "text/plain": "['best_classification_model.joblib']"
          },
          "metadata": {}
        }
      ],
      "execution_count": 2,
      "metadata": {
        "gather": {
          "logged": 1702316158686
        }
      }
    },
    {
      "cell_type": "code",
      "source": [],
      "outputs": [],
      "execution_count": null,
      "metadata": {
        "jupyter": {
          "source_hidden": false,
          "outputs_hidden": false
        },
        "nteract": {
          "transient": {
            "deleting": false
          }
        }
      }
    }
  ],
  "metadata": {
    "kernelspec": {
      "name": "python310-sdkv2",
      "language": "python",
      "display_name": "Python 3.10 - SDK v2"
    },
    "language_info": {
      "name": "python",
      "version": "3.10.11",
      "mimetype": "text/x-python",
      "codemirror_mode": {
        "name": "ipython",
        "version": 3
      },
      "pygments_lexer": "ipython3",
      "nbconvert_exporter": "python",
      "file_extension": ".py"
    },
    "microsoft": {
      "ms_spell_check": {
        "ms_spell_check_language": "en"
      },
      "host": {
        "AzureML": {
          "notebookHasBeenCompleted": true
        }
      }
    },
    "kernel_info": {
      "name": "python310-sdkv2"
    },
    "nteract": {
      "version": "nteract-front-end@1.0.0"
    }
  },
  "nbformat": 4,
  "nbformat_minor": 2
}